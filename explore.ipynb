{
 "cells": [
  {
   "cell_type": "code",
   "execution_count": 1,
   "metadata": {},
   "outputs": [],
   "source": [
    "import pandas as pd\n",
    "import numpy as np\n",
    "\n",
    "import scipy.io\n",
    "import imageio\n",
    "from tqdm import tqdm"
   ]
  },
  {
   "cell_type": "code",
   "execution_count": 2,
   "metadata": {},
   "outputs": [],
   "source": [
    "df = pd.read_csv(\"data/parsed_training.csv\")"
   ]
  },
  {
   "cell_type": "code",
   "execution_count": 3,
   "metadata": {},
   "outputs": [
    {
     "data": {
      "text/html": [
       "<div>\n",
       "<style scoped>\n",
       "    .dataframe tbody tr th:only-of-type {\n",
       "        vertical-align: middle;\n",
       "    }\n",
       "\n",
       "    .dataframe tbody tr th {\n",
       "        vertical-align: top;\n",
       "    }\n",
       "\n",
       "    .dataframe thead th {\n",
       "        text-align: right;\n",
       "    }\n",
       "</style>\n",
       "<table border=\"1\" class=\"dataframe\">\n",
       "  <thead>\n",
       "    <tr style=\"text-align: right;\">\n",
       "      <th></th>\n",
       "      <th>file_name</th>\n",
       "      <th>instance_number</th>\n",
       "      <th>part_level</th>\n",
       "      <th>is_occluded</th>\n",
       "      <th>class_name</th>\n",
       "      <th>raw_name</th>\n",
       "      <th>attr_list</th>\n",
       "    </tr>\n",
       "  </thead>\n",
       "  <tbody>\n",
       "    <tr>\n",
       "      <th>0</th>\n",
       "      <td>data/ADE20K_2016_07_26/images/training/h/highw...</td>\n",
       "      <td>1</td>\n",
       "      <td>0</td>\n",
       "      <td>0</td>\n",
       "      <td>sky</td>\n",
       "      <td>sky</td>\n",
       "      <td>[]</td>\n",
       "    </tr>\n",
       "    <tr>\n",
       "      <th>1</th>\n",
       "      <td>data/ADE20K_2016_07_26/images/training/h/highw...</td>\n",
       "      <td>2</td>\n",
       "      <td>0</td>\n",
       "      <td>0</td>\n",
       "      <td>road, route</td>\n",
       "      <td>road</td>\n",
       "      <td>[]</td>\n",
       "    </tr>\n",
       "    <tr>\n",
       "      <th>2</th>\n",
       "      <td>data/ADE20K_2016_07_26/images/training/h/highw...</td>\n",
       "      <td>3</td>\n",
       "      <td>0</td>\n",
       "      <td>0</td>\n",
       "      <td>mountain, mount</td>\n",
       "      <td>mountain</td>\n",
       "      <td>[]</td>\n",
       "    </tr>\n",
       "    <tr>\n",
       "      <th>3</th>\n",
       "      <td>data/ADE20K_2016_07_26/images/training/h/highw...</td>\n",
       "      <td>4</td>\n",
       "      <td>0</td>\n",
       "      <td>0</td>\n",
       "      <td>field</td>\n",
       "      <td>field</td>\n",
       "      <td>[]</td>\n",
       "    </tr>\n",
       "    <tr>\n",
       "      <th>4</th>\n",
       "      <td>data/ADE20K_2016_07_26/images/training/h/highw...</td>\n",
       "      <td>5</td>\n",
       "      <td>0</td>\n",
       "      <td>0</td>\n",
       "      <td>tree</td>\n",
       "      <td>trees</td>\n",
       "      <td>[]</td>\n",
       "    </tr>\n",
       "  </tbody>\n",
       "</table>\n",
       "</div>"
      ],
      "text/plain": [
       "                                           file_name  instance_number  \\\n",
       "0  data/ADE20K_2016_07_26/images/training/h/highw...                1   \n",
       "1  data/ADE20K_2016_07_26/images/training/h/highw...                2   \n",
       "2  data/ADE20K_2016_07_26/images/training/h/highw...                3   \n",
       "3  data/ADE20K_2016_07_26/images/training/h/highw...                4   \n",
       "4  data/ADE20K_2016_07_26/images/training/h/highw...                5   \n",
       "\n",
       "   part_level  is_occluded       class_name  raw_name attr_list  \n",
       "0           0            0              sky       sky        []  \n",
       "1           0            0      road, route      road        []  \n",
       "2           0            0  mountain, mount  mountain        []  \n",
       "3           0            0            field     field        []  \n",
       "4           0            0             tree     trees        []  "
      ]
     },
     "execution_count": 3,
     "metadata": {},
     "output_type": "execute_result"
    }
   ],
   "source": [
    "df.head()"
   ]
  },
  {
   "cell_type": "code",
   "execution_count": 4,
   "metadata": {},
   "outputs": [
    {
     "name": "stdout",
     "output_type": "stream",
     "text": [
      "<class 'pandas.core.frame.DataFrame'>\n",
      "RangeIndex: 538372 entries, 0 to 538371\n",
      "Data columns (total 7 columns):\n",
      " #   Column           Non-Null Count   Dtype \n",
      "---  ------           --------------   ----- \n",
      " 0   file_name        538372 non-null  object\n",
      " 1   instance_number  538372 non-null  int64 \n",
      " 2   part_level       538372 non-null  int64 \n",
      " 3   is_occluded      538372 non-null  int64 \n",
      " 4   class_name       538372 non-null  object\n",
      " 5   raw_name         538372 non-null  object\n",
      " 6   attr_list        538372 non-null  object\n",
      "dtypes: int64(3), object(4)\n",
      "memory usage: 28.8+ MB\n"
     ]
    }
   ],
   "source": [
    "df.info()"
   ]
  },
  {
   "cell_type": "code",
   "execution_count": 5,
   "metadata": {},
   "outputs": [
    {
     "data": {
      "text/plain": [
       "count     538372\n",
       "unique      2943\n",
       "top       window\n",
       "freq       42139\n",
       "Name: raw_name, dtype: object"
      ]
     },
     "execution_count": 5,
     "metadata": {},
     "output_type": "execute_result"
    }
   ],
   "source": [
    "df.raw_name.describe()"
   ]
  },
  {
   "cell_type": "code",
   "execution_count": 6,
   "metadata": {},
   "outputs": [],
   "source": [
    "class_images = df.groupby([\"raw_name\", \"file_name\"]).size().groupby(level=0).size()"
   ]
  },
  {
   "cell_type": "code",
   "execution_count": 7,
   "metadata": {},
   "outputs": [
    {
     "data": {
      "text/plain": [
       "raw_name\n",
       "wall        11655\n",
       "floor        9332\n",
       "window       8331\n",
       "sky          8260\n",
       "ceiling      6598\n",
       "            ...  \n",
       "fruits        108\n",
       "blade         104\n",
       "entrance      102\n",
       "sand          102\n",
       "statue        101\n",
       "Length: 301, dtype: int64"
      ]
     },
     "execution_count": 7,
     "metadata": {},
     "output_type": "execute_result"
    }
   ],
   "source": [
    "class_images[class_images >= 100].sort_values(ascending=False)"
   ]
  },
  {
   "cell_type": "code",
   "execution_count": 8,
   "metadata": {},
   "outputs": [
    {
     "data": {
      "text/plain": [
       "(2943, 2904)"
      ]
     },
     "execution_count": 8,
     "metadata": {},
     "output_type": "execute_result"
    }
   ],
   "source": [
    "df.raw_name.nunique(), df.class_name.nunique()"
   ]
  },
  {
   "cell_type": "code",
   "execution_count": 9,
   "metadata": {},
   "outputs": [
    {
     "data": {
      "text/plain": [
       "(369,)"
      ]
     },
     "execution_count": 9,
     "metadata": {},
     "output_type": "execute_result"
    }
   ],
   "source": [
    "classes = df.groupby(\"class_name\").size()\n",
    "classes[classes > 100].shape"
   ]
  },
  {
   "cell_type": "code",
   "execution_count": 10,
   "metadata": {},
   "outputs": [],
   "source": [
    "fname = pd.DataFrame(df.file_name.str.split(\"/\").values.tolist())"
   ]
  },
  {
   "cell_type": "code",
   "execution_count": 11,
   "metadata": {},
   "outputs": [],
   "source": [
    "df[\"image_id\"] = fname[7].combine_first(fname[6]).combine_first(fname[5]).str.extract(\"(\\d+)\")"
   ]
  },
  {
   "cell_type": "code",
   "execution_count": 12,
   "metadata": {},
   "outputs": [],
   "source": [
    "def get_scene(row):\n",
    "    scene = \"/\".join([row[5] or \"\", row[6] or \"\", row[7] or \"\"])\n",
    "    return scene[:scene.find(\"ADE\")].rstrip(\"/\") or row[4]\n",
    "\n",
    "scenes = fname.apply(get_scene, axis=1)"
   ]
  },
  {
   "cell_type": "code",
   "execution_count": 13,
   "metadata": {},
   "outputs": [],
   "source": [
    "df[\"scene\"] = scenes.values"
   ]
  },
  {
   "cell_type": "code",
   "execution_count": 14,
   "metadata": {
    "scrolled": true
   },
   "outputs": [
    {
     "data": {
      "text/html": [
       "<div>\n",
       "<style scoped>\n",
       "    .dataframe tbody tr th:only-of-type {\n",
       "        vertical-align: middle;\n",
       "    }\n",
       "\n",
       "    .dataframe tbody tr th {\n",
       "        vertical-align: top;\n",
       "    }\n",
       "\n",
       "    .dataframe thead th {\n",
       "        text-align: right;\n",
       "    }\n",
       "</style>\n",
       "<table border=\"1\" class=\"dataframe\">\n",
       "  <thead>\n",
       "    <tr style=\"text-align: right;\">\n",
       "      <th></th>\n",
       "      <th>file_name</th>\n",
       "      <th>instance_number</th>\n",
       "      <th>part_level</th>\n",
       "      <th>is_occluded</th>\n",
       "      <th>class_name</th>\n",
       "      <th>raw_name</th>\n",
       "      <th>attr_list</th>\n",
       "      <th>image_id</th>\n",
       "      <th>scene</th>\n",
       "    </tr>\n",
       "  </thead>\n",
       "  <tbody>\n",
       "    <tr>\n",
       "      <th>277616</th>\n",
       "      <td>data/ADE20K_2016_07_26/images/training/a/airpo...</td>\n",
       "      <td>1</td>\n",
       "      <td>0</td>\n",
       "      <td>0</td>\n",
       "      <td>wall</td>\n",
       "      <td>wall</td>\n",
       "      <td>['glass']</td>\n",
       "      <td>00000001</td>\n",
       "      <td>airport_terminal</td>\n",
       "    </tr>\n",
       "    <tr>\n",
       "      <th>277617</th>\n",
       "      <td>data/ADE20K_2016_07_26/images/training/a/airpo...</td>\n",
       "      <td>2</td>\n",
       "      <td>0</td>\n",
       "      <td>0</td>\n",
       "      <td>wall</td>\n",
       "      <td>wall</td>\n",
       "      <td>['glass']</td>\n",
       "      <td>00000001</td>\n",
       "      <td>airport_terminal</td>\n",
       "    </tr>\n",
       "    <tr>\n",
       "      <th>277618</th>\n",
       "      <td>data/ADE20K_2016_07_26/images/training/a/airpo...</td>\n",
       "      <td>3</td>\n",
       "      <td>0</td>\n",
       "      <td>0</td>\n",
       "      <td>wall</td>\n",
       "      <td>wall</td>\n",
       "      <td>['glass']</td>\n",
       "      <td>00000001</td>\n",
       "      <td>airport_terminal</td>\n",
       "    </tr>\n",
       "    <tr>\n",
       "      <th>277619</th>\n",
       "      <td>data/ADE20K_2016_07_26/images/training/a/airpo...</td>\n",
       "      <td>4</td>\n",
       "      <td>0</td>\n",
       "      <td>0</td>\n",
       "      <td>wall</td>\n",
       "      <td>wall</td>\n",
       "      <td>[]</td>\n",
       "      <td>00000001</td>\n",
       "      <td>airport_terminal</td>\n",
       "    </tr>\n",
       "    <tr>\n",
       "      <th>277620</th>\n",
       "      <td>data/ADE20K_2016_07_26/images/training/a/airpo...</td>\n",
       "      <td>5</td>\n",
       "      <td>0</td>\n",
       "      <td>0</td>\n",
       "      <td>wall</td>\n",
       "      <td>wall</td>\n",
       "      <td>[]</td>\n",
       "      <td>00000001</td>\n",
       "      <td>airport_terminal</td>\n",
       "    </tr>\n",
       "    <tr>\n",
       "      <th>...</th>\n",
       "      <td>...</td>\n",
       "      <td>...</td>\n",
       "      <td>...</td>\n",
       "      <td>...</td>\n",
       "      <td>...</td>\n",
       "      <td>...</td>\n",
       "      <td>...</td>\n",
       "      <td>...</td>\n",
       "      <td>...</td>\n",
       "    </tr>\n",
       "    <tr>\n",
       "      <th>296752</th>\n",
       "      <td>data/ADE20K_2016_07_26/images/training/z/zoo/A...</td>\n",
       "      <td>26</td>\n",
       "      <td>0</td>\n",
       "      <td>1</td>\n",
       "      <td>ashcan, trash can, garbage can, wastebin, ash ...</td>\n",
       "      <td>trash can</td>\n",
       "      <td>[]</td>\n",
       "      <td>00020210</td>\n",
       "      <td>zoo</td>\n",
       "    </tr>\n",
       "    <tr>\n",
       "      <th>296753</th>\n",
       "      <td>data/ADE20K_2016_07_26/images/training/z/zoo/A...</td>\n",
       "      <td>27</td>\n",
       "      <td>0</td>\n",
       "      <td>0</td>\n",
       "      <td>fence, fencing</td>\n",
       "      <td>fence</td>\n",
       "      <td>[]</td>\n",
       "      <td>00020210</td>\n",
       "      <td>zoo</td>\n",
       "    </tr>\n",
       "    <tr>\n",
       "      <th>296754</th>\n",
       "      <td>data/ADE20K_2016_07_26/images/training/z/zoo/A...</td>\n",
       "      <td>28</td>\n",
       "      <td>0</td>\n",
       "      <td>0</td>\n",
       "      <td>fence, fencing</td>\n",
       "      <td>fence</td>\n",
       "      <td>[]</td>\n",
       "      <td>00020210</td>\n",
       "      <td>zoo</td>\n",
       "    </tr>\n",
       "    <tr>\n",
       "      <th>296755</th>\n",
       "      <td>data/ADE20K_2016_07_26/images/training/z/zoo/A...</td>\n",
       "      <td>29</td>\n",
       "      <td>0</td>\n",
       "      <td>1</td>\n",
       "      <td>animal, animate being, beast, brute, creature,...</td>\n",
       "      <td>animal</td>\n",
       "      <td>['zebra']</td>\n",
       "      <td>00020210</td>\n",
       "      <td>zoo</td>\n",
       "    </tr>\n",
       "    <tr>\n",
       "      <th>296756</th>\n",
       "      <td>data/ADE20K_2016_07_26/images/training/z/zoo/A...</td>\n",
       "      <td>30</td>\n",
       "      <td>0</td>\n",
       "      <td>0</td>\n",
       "      <td>straw</td>\n",
       "      <td>straw</td>\n",
       "      <td>[]</td>\n",
       "      <td>00020210</td>\n",
       "      <td>zoo</td>\n",
       "    </tr>\n",
       "  </tbody>\n",
       "</table>\n",
       "<p>538372 rows × 9 columns</p>\n",
       "</div>"
      ],
      "text/plain": [
       "                                                file_name  instance_number  \\\n",
       "277616  data/ADE20K_2016_07_26/images/training/a/airpo...                1   \n",
       "277617  data/ADE20K_2016_07_26/images/training/a/airpo...                2   \n",
       "277618  data/ADE20K_2016_07_26/images/training/a/airpo...                3   \n",
       "277619  data/ADE20K_2016_07_26/images/training/a/airpo...                4   \n",
       "277620  data/ADE20K_2016_07_26/images/training/a/airpo...                5   \n",
       "...                                                   ...              ...   \n",
       "296752  data/ADE20K_2016_07_26/images/training/z/zoo/A...               26   \n",
       "296753  data/ADE20K_2016_07_26/images/training/z/zoo/A...               27   \n",
       "296754  data/ADE20K_2016_07_26/images/training/z/zoo/A...               28   \n",
       "296755  data/ADE20K_2016_07_26/images/training/z/zoo/A...               29   \n",
       "296756  data/ADE20K_2016_07_26/images/training/z/zoo/A...               30   \n",
       "\n",
       "        part_level  is_occluded  \\\n",
       "277616           0            0   \n",
       "277617           0            0   \n",
       "277618           0            0   \n",
       "277619           0            0   \n",
       "277620           0            0   \n",
       "...            ...          ...   \n",
       "296752           0            1   \n",
       "296753           0            0   \n",
       "296754           0            0   \n",
       "296755           0            1   \n",
       "296756           0            0   \n",
       "\n",
       "                                               class_name   raw_name  \\\n",
       "277616                                               wall       wall   \n",
       "277617                                               wall       wall   \n",
       "277618                                               wall       wall   \n",
       "277619                                               wall       wall   \n",
       "277620                                               wall       wall   \n",
       "...                                                   ...        ...   \n",
       "296752  ashcan, trash can, garbage can, wastebin, ash ...  trash can   \n",
       "296753                                     fence, fencing      fence   \n",
       "296754                                     fence, fencing      fence   \n",
       "296755  animal, animate being, beast, brute, creature,...     animal   \n",
       "296756                                              straw      straw   \n",
       "\n",
       "        attr_list  image_id             scene  \n",
       "277616  ['glass']  00000001  airport_terminal  \n",
       "277617  ['glass']  00000001  airport_terminal  \n",
       "277618  ['glass']  00000001  airport_terminal  \n",
       "277619         []  00000001  airport_terminal  \n",
       "277620         []  00000001  airport_terminal  \n",
       "...           ...       ...               ...  \n",
       "296752         []  00020210               zoo  \n",
       "296753         []  00020210               zoo  \n",
       "296754         []  00020210               zoo  \n",
       "296755  ['zebra']  00020210               zoo  \n",
       "296756         []  00020210               zoo  \n",
       "\n",
       "[538372 rows x 9 columns]"
      ]
     },
     "execution_count": 14,
     "metadata": {},
     "output_type": "execute_result"
    }
   ],
   "source": [
    "df.sort_values([\"image_id\", \"instance_number\"])"
   ]
  },
  {
   "cell_type": "code",
   "execution_count": 15,
   "metadata": {},
   "outputs": [],
   "source": [
    "mat = scipy.io.loadmat('data/ADE20K_2016_07_26/index_ade20k.mat')"
   ]
  },
  {
   "cell_type": "code",
   "execution_count": 16,
   "metadata": {},
   "outputs": [],
   "source": [
    "classes = []\n",
    "for x in mat[\"index\"][0][0][6][0]:\n",
    "    classes.append(x[0])"
   ]
  },
  {
   "cell_type": "code",
   "execution_count": 17,
   "metadata": {},
   "outputs": [],
   "source": [
    "mask = imageio.imread(\n",
    "    \"data/ADE20K_2016_07_26/images/training/a/airport_terminal/ADE_train_00000001_seg.png\"\n",
    ").astype(np.uint16)"
   ]
  },
  {
   "cell_type": "code",
   "execution_count": 18,
   "metadata": {},
   "outputs": [],
   "source": [
    "uniq, counts = np.unique((mask[:, :, 0] // 10) * 256 + mask[:, :, 1], return_counts=True)"
   ]
  },
  {
   "cell_type": "code",
   "execution_count": 19,
   "metadata": {},
   "outputs": [
    {
     "data": {
      "text/plain": [
       "['ashcan, trash can, garbage can, wastebin, ash bin, ash-bin, ashbin, dustbin, trash barrel, trash bin',\n",
       " 'bag, traveling bag, travelling bag, grip, suitcase',\n",
       " 'ceiling',\n",
       " 'column, pillar',\n",
       " 'elevator, lift',\n",
       " 'escalator, moving staircase, moving stairway',\n",
       " 'fence, fencing',\n",
       " 'first floor',\n",
       " 'flag',\n",
       " 'floor, flooring',\n",
       " 'fountain',\n",
       " 'person, individual, someone, somebody, mortal, soul',\n",
       " 'plant, flora, plant life',\n",
       " 'pot, flowerpot',\n",
       " 'seat',\n",
       " 'signboard, sign',\n",
       " 'streetlight, street lamp',\n",
       " 'tree',\n",
       " 'wall']"
      ]
     },
     "execution_count": 19,
     "metadata": {},
     "output_type": "execute_result"
    }
   ],
   "source": [
    "labeled = uniq[uniq != 0] - 1  # matlab index starts from 1, it took me 4 hours to fix this LMAO\n",
    "sorted(np.array(classes)[labeled])"
   ]
  },
  {
   "cell_type": "code",
   "execution_count": 20,
   "metadata": {},
   "outputs": [
    {
     "data": {
      "text/plain": [
       "{'ashcan, trash can, garbage can, wastebin, ash bin, ash-bin, ashbin, dustbin, trash barrel, trash bin': 0.0008389155069986979,\n",
       " 'bag, traveling bag, travelling bag, grip, suitcase': 0.0007893244425455729,\n",
       " 'ceiling': 0.47514088948567706,\n",
       " 'column, pillar': 0.03987693786621094,\n",
       " 'elevator, lift': 0.00040976206461588543,\n",
       " 'escalator, moving staircase, moving stairway': 0.0028308232625325522,\n",
       " 'fence, fencing': 0.002838134765625,\n",
       " 'first floor': 0.0916738510131836,\n",
       " 'flag': 0.0013062159220377605,\n",
       " 'floor, flooring': 0.11636098225911458,\n",
       " 'fountain': 0.0221710205078125,\n",
       " 'person, individual, someone, somebody, mortal, soul': 0.012876192728678385,\n",
       " 'plant, flora, plant life': 0.019448280334472656,\n",
       " 'pot, flowerpot': 0.0022465387980143228,\n",
       " 'seat': 0.009389559427897135,\n",
       " 'signboard, sign': 0.007338205973307292,\n",
       " 'streetlight, street lamp': 0.0012429555257161458,\n",
       " 'tree': 0.01111761728922526,\n",
       " 'wall': 0.17502339680989584}"
      ]
     },
     "execution_count": 20,
     "metadata": {},
     "output_type": "execute_result"
    }
   ],
   "source": [
    "dict(zip(np.array(classes)[labeled], counts[uniq!=0]/(mask.shape[0]*mask.shape[1])))"
   ]
  },
  {
   "cell_type": "code",
   "execution_count": 21,
   "metadata": {},
   "outputs": [
    {
     "name": "stderr",
     "output_type": "stream",
     "text": [
      "100%|██████████| 20210/20210 [1:02:41<00:00,  5.37it/s]\n"
     ]
    }
   ],
   "source": [
    "with_pix_ratio = []\n",
    "for img in tqdm(range(1, df.image_id.astype(int).max()+1)):\n",
    "    curr_img_id = str(img).zfill(8)\n",
    "    subset = df[df.image_id == curr_img_id]\n",
    "    for level in subset.part_level.unique():\n",
    "        if level == 0:\n",
    "            filename = subset.file_name.values[0].replace(\"_atr.txt\", \"_seg.png\")\n",
    "        else:\n",
    "            filename = subset.file_name.values[0].replace(\"_atr.txt\", f\"_parts_{level}.png\")\n",
    "        mask = imageio.imread(filename).astype(np.uint16)\n",
    "        _, instances = np.unique(mask[:, :, 2], return_inverse=True)\n",
    "        uniq, counts = np.unique(instances, return_counts=True)\n",
    "        newdf = pd.DataFrame()\n",
    "        newdf[\"instance_number\"] = uniq\n",
    "        newdf[\"pixel_ratio\"] = counts / (mask.shape[0]*mask.shape[1])\n",
    "        newdf[\"part_level\"] = level\n",
    "        newdf[\"image_id\"] = curr_img_id\n",
    "        with_pix_ratio.append(newdf)"
   ]
  },
  {
   "cell_type": "code",
   "execution_count": 22,
   "metadata": {},
   "outputs": [],
   "source": [
    "newdf = pd.concat(with_pix_ratio)"
   ]
  },
  {
   "cell_type": "code",
   "execution_count": 23,
   "metadata": {},
   "outputs": [
    {
     "data": {
      "text/html": [
       "<div>\n",
       "<style scoped>\n",
       "    .dataframe tbody tr th:only-of-type {\n",
       "        vertical-align: middle;\n",
       "    }\n",
       "\n",
       "    .dataframe tbody tr th {\n",
       "        vertical-align: top;\n",
       "    }\n",
       "\n",
       "    .dataframe thead th {\n",
       "        text-align: right;\n",
       "    }\n",
       "</style>\n",
       "<table border=\"1\" class=\"dataframe\">\n",
       "  <thead>\n",
       "    <tr style=\"text-align: right;\">\n",
       "      <th></th>\n",
       "      <th>instance_number</th>\n",
       "      <th>pixel_ratio</th>\n",
       "      <th>part_level</th>\n",
       "      <th>image_id</th>\n",
       "    </tr>\n",
       "  </thead>\n",
       "  <tbody>\n",
       "    <tr>\n",
       "      <th>0</th>\n",
       "      <td>0</td>\n",
       "      <td>0.007080</td>\n",
       "      <td>0</td>\n",
       "      <td>00000001</td>\n",
       "    </tr>\n",
       "    <tr>\n",
       "      <th>1</th>\n",
       "      <td>1</td>\n",
       "      <td>0.014314</td>\n",
       "      <td>0</td>\n",
       "      <td>00000001</td>\n",
       "    </tr>\n",
       "    <tr>\n",
       "      <th>2</th>\n",
       "      <td>2</td>\n",
       "      <td>0.018823</td>\n",
       "      <td>0</td>\n",
       "      <td>00000001</td>\n",
       "    </tr>\n",
       "    <tr>\n",
       "      <th>3</th>\n",
       "      <td>3</td>\n",
       "      <td>0.013477</td>\n",
       "      <td>0</td>\n",
       "      <td>00000001</td>\n",
       "    </tr>\n",
       "    <tr>\n",
       "      <th>4</th>\n",
       "      <td>4</td>\n",
       "      <td>0.047316</td>\n",
       "      <td>0</td>\n",
       "      <td>00000001</td>\n",
       "    </tr>\n",
       "  </tbody>\n",
       "</table>\n",
       "</div>"
      ],
      "text/plain": [
       "   instance_number  pixel_ratio  part_level  image_id\n",
       "0                0     0.007080           0  00000001\n",
       "1                1     0.014314           0  00000001\n",
       "2                2     0.018823           0  00000001\n",
       "3                3     0.013477           0  00000001\n",
       "4                4     0.047316           0  00000001"
      ]
     },
     "execution_count": 23,
     "metadata": {},
     "output_type": "execute_result"
    }
   ],
   "source": [
    "newdf.head()"
   ]
  },
  {
   "cell_type": "code",
   "execution_count": 26,
   "metadata": {},
   "outputs": [],
   "source": [
    "joined = df.merge(newdf, how=\"left\", on=[\"instance_number\", \"part_level\", \"image_id\"])"
   ]
  },
  {
   "cell_type": "code",
   "execution_count": 32,
   "metadata": {},
   "outputs": [],
   "source": [
    "joined.to_csv(\"data/clean_parsed_training.csv\", index=False)"
   ]
  },
  {
   "cell_type": "code",
   "execution_count": 55,
   "metadata": {},
   "outputs": [],
   "source": [
    "joined.groupby(\"scene\", as_index=False).image_id.nunique().to_csv(\"data/scenes.csv\", index=False)"
   ]
  },
  {
   "cell_type": "code",
   "execution_count": 45,
   "metadata": {},
   "outputs": [],
   "source": [
    "grouped = joined.groupby(\"class_name\", as_index=False).agg({\"pixel_ratio\": [\"min\", \"mean\", \"max\"], \"instance_number\": \"count\", \"image_id\": \"nunique\"})"
   ]
  },
  {
   "cell_type": "code",
   "execution_count": 48,
   "metadata": {},
   "outputs": [],
   "source": [
    "def images_1pct(row):\n",
    "    return row[row.pixel_ratio > 0.01].image_id.nunique()\n",
    "\n",
    "images_1pct.__name__ = \"images_1pct\"\n",
    "\n",
    "images_1pct_df = joined.groupby(\"class_name\", as_index=False).apply(images_1pct)\n",
    "images_1pct_df.columns = [\"class_name\", \"images_1pct\"]"
   ]
  },
  {
   "cell_type": "code",
   "execution_count": 50,
   "metadata": {},
   "outputs": [],
   "source": [
    "grouped.columns = [\"_\".join(c).strip(\"_\") for c in grouped.columns]"
   ]
  },
  {
   "cell_type": "code",
   "execution_count": 53,
   "metadata": {},
   "outputs": [],
   "source": [
    "grouped.merge(images_1pct_df, on=[\"class_name\"]).to_csv(\"data/object_stats.csv\", index=False)"
   ]
  },
  {
   "cell_type": "code",
   "execution_count": 62,
   "metadata": {},
   "outputs": [],
   "source": [
    "scenes = [\"living_room\", \"bedroom\", \"kitchen\", \"bathroom\"]\n",
    "indoor = joined[joined.scene.isin(scenes) & (joined.part_level <= 1)]"
   ]
  },
  {
   "cell_type": "code",
   "execution_count": 63,
   "metadata": {},
   "outputs": [],
   "source": [
    "indoor_g = indoor.groupby(\"class_name\", as_index=False).agg({\"pixel_ratio\": [\"min\", \"mean\", \"max\"], \"instance_number\": \"count\", \"image_id\": \"nunique\"})"
   ]
  },
  {
   "cell_type": "code",
   "execution_count": 64,
   "metadata": {},
   "outputs": [
    {
     "data": {
      "text/html": [
       "<div>\n",
       "<style scoped>\n",
       "    .dataframe tbody tr th:only-of-type {\n",
       "        vertical-align: middle;\n",
       "    }\n",
       "\n",
       "    .dataframe tbody tr th {\n",
       "        vertical-align: top;\n",
       "    }\n",
       "\n",
       "    .dataframe thead tr th {\n",
       "        text-align: left;\n",
       "    }\n",
       "</style>\n",
       "<table border=\"1\" class=\"dataframe\">\n",
       "  <thead>\n",
       "    <tr>\n",
       "      <th></th>\n",
       "      <th>class_name</th>\n",
       "      <th colspan=\"3\" halign=\"left\">pixel_ratio</th>\n",
       "      <th>instance_number</th>\n",
       "      <th>image_id</th>\n",
       "    </tr>\n",
       "    <tr>\n",
       "      <th></th>\n",
       "      <th></th>\n",
       "      <th>min</th>\n",
       "      <th>mean</th>\n",
       "      <th>max</th>\n",
       "      <th>count</th>\n",
       "      <th>nunique</th>\n",
       "    </tr>\n",
       "  </thead>\n",
       "  <tbody>\n",
       "    <tr>\n",
       "      <th>0</th>\n",
       "      <td>air conditioner, air conditioning</td>\n",
       "      <td>0.001120</td>\n",
       "      <td>0.012942</td>\n",
       "      <td>0.082801</td>\n",
       "      <td>53</td>\n",
       "      <td>52</td>\n",
       "    </tr>\n",
       "    <tr>\n",
       "      <th>1</th>\n",
       "      <td>alarm clock, alarm</td>\n",
       "      <td>0.000809</td>\n",
       "      <td>0.004668</td>\n",
       "      <td>0.031400</td>\n",
       "      <td>21</td>\n",
       "      <td>21</td>\n",
       "    </tr>\n",
       "    <tr>\n",
       "      <th>2</th>\n",
       "      <td>alarm, warning device, alarm system</td>\n",
       "      <td>0.001328</td>\n",
       "      <td>0.001328</td>\n",
       "      <td>0.001328</td>\n",
       "      <td>1</td>\n",
       "      <td>1</td>\n",
       "    </tr>\n",
       "    <tr>\n",
       "      <th>3</th>\n",
       "      <td>anchor, ground tackle</td>\n",
       "      <td>0.000953</td>\n",
       "      <td>0.001257</td>\n",
       "      <td>0.001560</td>\n",
       "      <td>2</td>\n",
       "      <td>2</td>\n",
       "    </tr>\n",
       "    <tr>\n",
       "      <th>4</th>\n",
       "      <td>andiron, firedog, dog, dog-iron</td>\n",
       "      <td>0.001334</td>\n",
       "      <td>0.001458</td>\n",
       "      <td>0.001581</td>\n",
       "      <td>2</td>\n",
       "      <td>1</td>\n",
       "    </tr>\n",
       "  </tbody>\n",
       "</table>\n",
       "</div>"
      ],
      "text/plain": [
       "                            class_name pixel_ratio                      \\\n",
       "                                               min      mean       max   \n",
       "0    air conditioner, air conditioning    0.001120  0.012942  0.082801   \n",
       "1                   alarm clock, alarm    0.000809  0.004668  0.031400   \n",
       "2  alarm, warning device, alarm system    0.001328  0.001328  0.001328   \n",
       "3                anchor, ground tackle    0.000953  0.001257  0.001560   \n",
       "4      andiron, firedog, dog, dog-iron    0.001334  0.001458  0.001581   \n",
       "\n",
       "  instance_number image_id  \n",
       "            count  nunique  \n",
       "0              53       52  \n",
       "1              21       21  \n",
       "2               1        1  \n",
       "3               2        2  \n",
       "4               2        1  "
      ]
     },
     "execution_count": 64,
     "metadata": {},
     "output_type": "execute_result"
    }
   ],
   "source": [
    "indoor_g.head()"
   ]
  },
  {
   "cell_type": "code",
   "execution_count": 65,
   "metadata": {},
   "outputs": [],
   "source": [
    "images_1pct_indoor = indoor.groupby(\"class_name\", as_index=False).apply(images_1pct)\n",
    "images_1pct_indoor.columns = [\"class_name\", \"images_1pct\"]"
   ]
  },
  {
   "cell_type": "code",
   "execution_count": 66,
   "metadata": {},
   "outputs": [],
   "source": [
    "indoor_g.columns = [\"_\".join(c).strip(\"_\") for c in indoor_g.columns]"
   ]
  },
  {
   "cell_type": "code",
   "execution_count": 67,
   "metadata": {},
   "outputs": [],
   "source": [
    "indoor_g.merge(images_1pct_indoor, on=[\"class_name\"]).to_csv(\"data/house_indoor_object_stats.csv\", index=False)"
   ]
  },
  {
   "cell_type": "code",
   "execution_count": null,
   "metadata": {},
   "outputs": [],
   "source": []
  }
 ],
 "metadata": {
  "kernelspec": {
   "display_name": "Python 3",
   "language": "python",
   "name": "python3"
  },
  "language_info": {
   "codemirror_mode": {
    "name": "ipython",
    "version": 3
   },
   "file_extension": ".py",
   "mimetype": "text/x-python",
   "name": "python",
   "nbconvert_exporter": "python",
   "pygments_lexer": "ipython3",
   "version": "3.8.5"
  }
 },
 "nbformat": 4,
 "nbformat_minor": 4
}
